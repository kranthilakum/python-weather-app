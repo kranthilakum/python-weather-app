{
 "cells": [
  {
   "cell_type": "markdown",
   "id": "38554067",
   "metadata": {},
   "source": [
    "## Fetch Weather Data"
   ]
  },
  {
   "cell_type": "code",
   "execution_count": 72,
   "id": "f245633f",
   "metadata": {
    "scrolled": false
   },
   "outputs": [
    {
     "name": "stdout",
     "output_type": "stream",
     "text": [
      "https://apex.oracle.com/pls/apex/raspberrypi/weatherstation/getlatestmeasurements/989061\n",
      "[{'air_pressure': 990.05,\n",
      "  'air_quality': 45.66,\n",
      "  'ambient_temp': 32.52,\n",
      "  'created_by': 'Test_Weather',\n",
      "  'created_on': '2015-08-13T16:09:10Z',\n",
      "  'ground_temp': 29.44,\n",
      "  'humidity': 56.9,\n",
      "  'id': 1010599,\n",
      "  'rainfall': 0,\n",
      "  'reading_timestamp': '2015-08-13T16:09:10Z',\n",
      "  'updated_by': 'Test_Weather',\n",
      "  'updated_on': '2016-09-02T05:55:43.159Z',\n",
      "  'weather_stn_id': 989061,\n",
      "  'wind_direction': 161.62,\n",
      "  'wind_gust_speed': 0,\n",
      "  'wind_speed': 0}]\n"
     ]
    }
   ],
   "source": [
    "from requests import get\n",
    "import json\n",
    "from pprint import pprint\n",
    "\n",
    "from math import radians, cos, sin, asin, sqrt\n",
    "\n",
    "def haversine(lon1, lat1, lon2, lat2):\n",
    "    # convert degrees to radians\n",
    "    lon1 = radians(lon1)\n",
    "    lat1 = radians(lat1)\n",
    "    lon2 = radians(lon2)\n",
    "    lat2 = radians(lat2)\n",
    "    dlon = lon2 - lon1 # difference between two longitudes\n",
    "    dlat = lat2 - lat1 # difference between two latitudes\n",
    "    a = sin(dlat/2)**2 + cos(lat1) * cos(lat2) * sin(dlon/2)**2\n",
    "    distance = 2 * asin(sqrt(a)) * 6371 #6371 is the radius of the Earth\n",
    "    return distance\n",
    "\n",
    "def find_closest(stations, my_lat, my_long):\n",
    "    smallest = 20036 # longest possible distance between two points on the Earth’s surface is 20036km\n",
    "    for station in stations:\n",
    "        station_lon = station['weather_stn_long']\n",
    "        station_lat = station['weather_stn_lat']\n",
    "        distance = haversine(my_long, my_lat, station_lon, station_lat)\n",
    "        if distance < smallest:\n",
    "            smallest = distance\n",
    "            closest_station = station['weather_stn_id']\n",
    "    return closest_station\n",
    "\n",
    "my_lat = 22.3039\n",
    "my_long = 70.8022\n",
    "getAllStationsUrl = 'https://apex.oracle.com/pls/apex/raspberrypi/weatherstation/getallstations'\n",
    "getAllWeathersUrl = 'https://apex.oracle.com/pls/apex/raspberrypi/weatherstation/getlatestmeasurements/'\n",
    "stations = get(getAllStationsUrl).json()['items']\n",
    "# pprint(stations)\n",
    "\n",
    "# calculate distances between two points on the Earth’s surface\n",
    "closest_stn = find_closest(stations, my_lat, my_long)\n",
    "weatherUrl = getAllWeathersUrl + str(closest_stn)\n",
    "print(weatherUrl)\n",
    "my_weather = get(weatherUrl).json()[\"items\"]\n",
    "pprint(my_weather)"
   ]
  },
  {
   "cell_type": "markdown",
   "id": "46e5c1fc",
   "metadata": {},
   "source": [
    "- You could have a look at some weather data from other locations in the world. Use the web to find some longitudes and latitudes of other places, and then fetch weather from their nearest stations.\n",
    "\n",
    "- How about importing the data from several Weather Stations into some spreadsheet software and drawing some graphs? Or maybe you’d like to try and use Python to draw some graphs for you?\n",
    "\n",
    "- Create a simple interface using the Python function input which asks for your longitude and latitude and finds the weather near you."
   ]
  },
  {
   "cell_type": "markdown",
   "id": "61fcb312",
   "metadata": {},
   "source": [
    "## Graph the Weather"
   ]
  },
  {
   "cell_type": "code",
   "execution_count": 83,
   "id": "83a16502",
   "metadata": {},
   "outputs": [
    {
     "data": {
      "image/png": "[encoded data removed]",
      "text/plain": [
       "<Figure size 432x288 with 1 Axes>"
      ]
     },
     "metadata": {
      "needs_background": "light"
     },
     "output_type": "display_data"
    }
   ],
   "source": [
    "import matplotlib.pyplot as plt\n",
    "from requests import get\n",
    "from dateutil import parser\n",
    "from pprint import pprint\n",
    "\n",
    "actionWeatherStationIds = [490722, 505307, 505367, 506882, 509944, 515967, 519781, 520153,\n",
    "520275, 524920, 526297, 528071, 541759, 552355, 553997, 562837, 586603,\n",
    "586921, 587328, 591441, 595131, 595229, 638013, 667858, 668306, 714944,\n",
    "748308, 860212, 903578, 903675, 906364, 1023840, 1042161, 1073533,\n",
    "1100597, 1101852, 1111673, 1158690, 1195685, 1212453, 1253673, 1261471,\n",
    "1269584, 1307290, 1355086, 1356217, 1373810, 1406723, 1546872, 1551853,\n",
    "1569432, 1569473, 1572018, 1592317, 1598227, 1604642, 1615966, 1621459,\n",
    "1624210, 1648902, 1674106, 1682287, 1683740];\n",
    "currentWeatherUrl = 'https://apex.oracle.com/pls/apex/raspberrypi/weatherstation/getallmeasurements/'\n",
    "weather = get(currentWeatherUrl + '1307290').json()\n",
    "\n",
    "# a for loop to iterate over the data and pick out all the temperature readings\n",
    "# temperatures = []\n",
    "# for record in weather['data']:\n",
    "#     temperature = record['ambient_temp']\n",
    "#     temperatures.append(temperature)\n",
    "\n",
    "# using list comprehension to retrieve temperatures\n",
    "temperatures = [record['ambient_temp'] for record in weather['items']]\n",
    "timestamps = [parser.parse(record['reading_timestamp']) for record in weather['items']]\n",
    "\n",
    "## create a plot of timestamps against temperature and show it\n",
    "plt.plot(timestamps, temperatures)\n",
    "plt.ylabel('Temperature')\n",
    "plt.xlabel('Time')\n",
    "plt.show()\n",
    "\n",
    "# try and use some different sensor measurements, and see what your graph looks like?\n",
    "\n"
   ]
  },
  {
   "cell_type": "markdown",
   "id": "121adac7",
   "metadata": {},
   "source": [
    "## Create Folium Map with Weather Stations"
   ]
  },
  {
   "cell_type": "code",
   "execution_count": null,
   "id": "71cef94a",
   "metadata": {},
   "outputs": [],
   "source": [
    "from requests import get # fetch the JSON data from database\n",
    "import os\n",
    "import webbrowser\n",
    "import folium # a tool for visualising data on maps in Python.\n",
    "import json # process JSON data\n",
    "import html\n",
    "\n",
    "def colourgrad(minimum, maximum, value):\n",
    "    minimum, maximum = float(minimum), float(maximum)\n",
    "    ratio = 2 * (value - minimum) / (maximum - minimum)\n",
    "    b = int(max(0, 255*(1 - ratio)))\n",
    "    g = int(max(0, 255*(ratio - 1)))\n",
    "    r = 255 - b - g\n",
    "    hexcolour = '#%02x%02x%02x' % (r,g,b)\n",
    "    return hexcolour\n",
    "\n",
    "temps = []\n",
    "tmax = 0.0\n",
    "tmin = 100.0\n",
    "cwd = os.getcwd()\n",
    "map_ws = folium.Map(location=[20.5937, 78.9629], zoom_start=5)\n",
    "url = 'https://apex.oracle.com/pls/apex/raspberrypi/weatherstation/getallstations'\n",
    "stations = get(url).json()\n",
    "\n",
    "longitudes = [station['weather_stn_long'] for station in stations['items']]\n",
    "latitudes = [station['weather_stn_lat'] for station in stations['items']]\n",
    "stationNames = [html.escape(station['weather_stn_name']) for station in stations['items']]\n",
    "\n",
    "for marker in range(len(longitudes)-1):\n",
    "    folium.Marker([latitudes[marker], longitudes[marker]],\n",
    "                  icon = folium.Icon(icon = 'cloud', color = 'green'),\n",
    "                  popup = stationNames[marker]).add_to(map_ws)\n",
    "\n",
    "map_ws.save('ws_map.html')\n",
    "webbrowser.open_new('file://' + cwd + '/' + 'dist/ws_map.html')\n"
   ]
  },
  {
   "cell_type": "markdown",
   "id": "bd108da4",
   "metadata": {},
   "source": [
    "## Create Folium Map with Weather Stations & Temperatures"
   ]
  },
  {
   "cell_type": "code",
   "execution_count": 87,
   "id": "daf2875d",
   "metadata": {},
   "outputs": [
    {
     "data": {
      "text/plain": [
       "True"
      ]
     },
     "execution_count": 87,
     "metadata": {},
     "output_type": "execute_result"
    }
   ],
   "source": [
    "from requests import get # fetch the JSON data from database\n",
    "import os\n",
    "import webbrowser\n",
    "import folium # a tool for visualising data on maps in Python.\n",
    "import json # process JSON data\n",
    "import html\n",
    "\n",
    "def colourgrad(minimum, maximum, value):\n",
    "    minimum, maximum = float(minimum), float(maximum)\n",
    "    ratio = 2 * (value - minimum) / (maximum - minimum)\n",
    "    b = int(max(0, 255*(1 - ratio)))\n",
    "    g = int(max(0, 255*(ratio - 1)))\n",
    "    r = 255 - b - g\n",
    "    hexcolour = '#%02x%02x%02x' % (r,g,b)\n",
    "    return hexcolour\n",
    "\n",
    "temps = []\n",
    "tmax = 0.0\n",
    "tmin = 100.0\n",
    "cwd = os.getcwd()\n",
    "map_ws = folium.Map(location=[20.5937, 78.9629], zoom_start=5)\n",
    "url = 'https://apex.oracle.com/pls/apex/raspberrypi/weatherstation/getalllastmeasurement' # getallstations\n",
    "stations = get(url).json()\n",
    "\n",
    "longitudes = [station['weather_stn_long'] for station in stations['items']]\n",
    "latitudes = [station['weather_stn_lat'] for station in stations['items']]\n",
    "stationNames = [html.escape(station['weather_stn_name']) for station in stations['items']]\n",
    "\n",
    "for data in stations['items']:\n",
    "    if 'ambient_temp' in data:\n",
    "        t = data['ambient_temp']\n",
    "        if t >= 52:\n",
    "            t = 52 # approximation\n",
    "        if t <= -30:\n",
    "            t = -30 # approximation\n",
    "        if t > tmax:\n",
    "            tmax = t\n",
    "        if t < tmin:\n",
    "            tmin = t\n",
    "        temps.append(str(t))\n",
    "\n",
    "for marker in range(len(longitudes) - 1):\n",
    "    hcol = colourgrad(tmin, tmax, float(temps[marker]))\n",
    "    folium.CircleMarker([latitudes[marker], longitudes[marker]],\n",
    "                  radius = 5,\n",
    "                  popup = stationNames[marker] + ':' + temps[marker],\n",
    "                  fill_color = hcol).add_to(map_ws)\n",
    "\n",
    "map_ws.save('ws_temps_map.html')\n",
    "webbrowser.open_new('file://' + cwd + '/' + 'ws_temps_map.html')"
   ]
  },
  {
   "cell_type": "markdown",
   "id": "134d9f52",
   "metadata": {},
   "source": [
    "- plot some sensor data, like rainfall?\n",
    "- try and use a choropleth map to display weather station data based on regions."
   ]
  },
  {
   "cell_type": "code",
   "execution_count": null,
   "id": "b02e175c",
   "metadata": {},
   "outputs": [],
   "source": []
  }
 ],
 "metadata": {
  "kernelspec": {
   "display_name": "Python 3 (ipykernel)",
   "language": "python",
   "name": "python3"
  },
  "language_info": {
   "codemirror_mode": {
    "name": "ipython",
    "version": 3
   },
   "file_extension": ".py",
   "mimetype": "text/x-python",
   "name": "python",
   "nbconvert_exporter": "python",
   "pygments_lexer": "ipython3",
   "version": "3.9.7"
  }
 },
 "nbformat": 4,
 "nbformat_minor": 5
}
